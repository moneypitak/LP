{
  "nbformat": 4,
  "nbformat_minor": 0,
  "metadata": {
    "colab": {
      "name": "Simple Method.ipynb",
      "provenance": [],
      "authorship_tag": "ABX9TyNBMqKRpKP120fbspDXmubV",
      "include_colab_link": true
    },
    "kernelspec": {
      "name": "python3",
      "display_name": "Python 3"
    },
    "language_info": {
      "name": "python"
    }
  },
  "cells": [
    {
      "cell_type": "markdown",
      "metadata": {
        "id": "view-in-github",
        "colab_type": "text"
      },
      "source": [
        "<a href=\"https://colab.research.google.com/github/moneypitak/LP/blob/main/Simple_Method.ipynb\" target=\"_parent\"><img src=\"https://colab.research.google.com/assets/colab-badge.svg\" alt=\"Open In Colab\"/></a>"
      ]
    },
    {
      "cell_type": "markdown",
      "source": [
        "# Import ข้อมูลที่จะใช้"
      ],
      "metadata": {
        "id": "toH4FSothF4c"
      }
    },
    {
      "cell_type": "code",
      "execution_count": 1,
      "metadata": {
        "id": "EDBWdVqbaOhS"
      },
      "outputs": [],
      "source": [
        "from scipy.spatial import HalfspaceIntersection, ConvexHull\n",
        "import matplotlib.pyplot as plt\n",
        "from matplotlib.patches import Polygon\n",
        "import numpy as np"
      ]
    },
    {
      "cell_type": "markdown",
      "source": [
        "# แทนค่าสมการต่างๆ"
      ],
      "metadata": {
        "id": "1kSC0NtShL5t"
      }
    },
    {
      "cell_type": "code",
      "source": [
        "def render_inequalities(halfspaces, feasible_point, xlim, ylim):\n",
        "    hs = HalfspaceIntersection(np.array(halfspaces), np.array(feasible_point))\n",
        "    fig = plt.figure()\n",
        "    ax = fig.add_subplot('111', aspect='equal')\n",
        "    ax.set_xlim(xlim)\n",
        "    ax.set_ylim(ylim)\n",
        "\n",
        "    x = np.linspace(*xlim, 100)\n",
        "\n",
        "    for h in halfspaces:\n",
        "        if h[1]== 0:\n",
        "            ax.axvline(-h[2]/h[0], color=\"#2c3e50\")\n",
        "        else:\n",
        "            ax.plot(x, (-h[2]-h[0]*x)/h[1], color=\"#2c3e50\")\n",
        "    x, y = zip(*hs.intersections)\n",
        "    points = list(zip(x, y))\n",
        "    convex_hull = ConvexHull(points)\n",
        "    polygon = Polygon([points[v] for v in convex_hull.vertices], color=\"#34495e\")\n",
        "    ax.add_patch(polygon)\n",
        "    ax.plot(x, y, 'o', color=\"#e67e22\")"
      ],
      "metadata": {
        "id": "Y3T6VsTha3Fl"
      },
      "execution_count": 2,
      "outputs": []
    },
    {
      "cell_type": "markdown",
      "source": [
        "# เริ่มทำการ Plot"
      ],
      "metadata": {
        "id": "72CsMYZdhOJt"
      }
    },
    {
      "cell_type": "code",
      "source": [
        "halfspaces = [\n",
        "    [-1, 0., 0.],    # x₁ ≥ 0\n",
        "    [0., -1., 0.],   # x₂ ≥ 0\n",
        "    [-1., 4., -13.], # 4x₂ - x₁ ≤ 13\n",
        "    [2., 1., -10.]   # x₂ + 2x₁ ≤ 10\n",
        "]\n",
        "feasible_point = [0.5, 0.5]\n",
        "xlim = (-1, 6)\n",
        "render_inequalities(halfspaces, feasible_point, xlim, xlim)\n",
        "plt.show()"
      ],
      "metadata": {
        "colab": {
          "base_uri": "https://localhost:8080/",
          "height": 269
        },
        "id": "HDZhLguja6nj",
        "outputId": "ebb6b543-5d32-4af6-d103-53cf7fcc56d2"
      },
      "execution_count": 3,
      "outputs": [
        {
          "output_type": "display_data",
          "data": {
            "text/plain": [
              "<Figure size 432x288 with 1 Axes>"
            ],
            "image/png": "[encoded data removed]"
          },
          "metadata": {
            "needs_background": "light"
          }
        }
      ]
    },
    {
      "cell_type": "markdown",
      "source": [
        "# Simplex Method\n",
        "\n",
        "## ตัวอย่างการ plot ของ simplex Method ข้อที่ 1"
      ],
      "metadata": {
        "id": "-LGID5BuarJW"
      }
    },
    {
      "cell_type": "code",
      "source": [
        "halfspaces = [                                  \n",
        "    [-1, 0, 0],    # x₁ ≥ 0 \n",
        "    [0, -1, 0],    # x₂ ≥ 0\n",
        "    [-1, 1, -2],   # -x₁ + x₂ ≤ 2\n",
        "    [1, 0, -4],    # x₁ ≤ 4\n",
        "    [0, 1, -4],    # x₂ ≤ 4\n",
        "]\n",
        "feasible_point = np.array([0.5, 0.5])\n",
        "xlim = (-1, 5)\n",
        "render_inequalities(halfspaces, feasible_point, xlim, xlim)\n",
        "plt.show()"
      ],
      "metadata": {
        "colab": {
          "base_uri": "https://localhost:8080/",
          "height": 269
        },
        "id": "Gd6aanY4asLh",
        "outputId": "49e2a07f-253e-413a-d415-b4119117af7c"
      },
      "execution_count": 4,
      "outputs": [
        {
          "output_type": "display_data",
          "data": {
            "text/plain": [
              "<Figure size 432x288 with 1 Axes>"
            ],
            "image/png": "[encoded data removed]"
          },
          "metadata": {
            "needs_background": "light"
          }
        }
      ]
    }
  ]
}